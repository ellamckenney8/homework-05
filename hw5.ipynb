{
  "cells": [
    {
      "cell_type": "markdown",
      "metadata": {},
      "source": [
        "---\n",
        "title: Homework 4\n",
        "jupyter: python3\n",
        "---\n",
        "\n",
        "\n",
        "This assignment will continue to use the American Community Survey (ACS) from the US Census.\n",
        "You will need to refer to the documentation to know what the ACS variable names mean. You can find a copy of the codebook in the [Lab 4 folder on Google Drive](https://drive.google.com/drive/u/0/folders/1jkY0mTxBhwOvvCJE_CJ3LWiOr_9V1ojZ)\n"
      ]
    },
    {
      "cell_type": "code",
      "execution_count": 1,
      "metadata": {},
      "outputs": [],
      "source": [
        "import warnings\n",
        "warnings.simplefilter(action='ignore', category=FutureWarning)\n",
        "\n",
        "import pandas as pd\n",
        "import numpy as np\n",
        "import seaborn as sb\n",
        "import matplotlib.pyplot as plt\n",
        "pd.options.mode.chained_assignment = None"
      ]
    },
    {
      "cell_type": "code",
      "execution_count": 2,
      "metadata": {},
      "outputs": [],
      "source": [
        "acs = pd.read_csv(\"./pums_short.csv.gz\")"
      ]
    },
    {
      "cell_type": "markdown",
      "metadata": {},
      "source": [
        "## Question 1: Working with missing data\n",
        "\n",
        "### Q1.a\n",
        "\n",
        "In the previous lab we counted the number of missing values for the `\"RNTP\"` column using"
      ]
    },
    {
      "cell_type": "code",
      "execution_count": 10,
      "metadata": {},
      "outputs": [
        {
          "name": "stdout",
          "output_type": "stream",
          "text": [
            "202728\n"
          ]
        }
      ],
      "source": [
        "print(acs[\"RNTP\"].isna().sum())"
      ]
    },
    {
      "cell_type": "code",
      "execution_count": 9,
      "metadata": {},
      "outputs": [
        {
          "name": "stdout",
          "output_type": "stream",
          "text": [
            "97644\n",
            "total number of rows in the acs table: 276632\n"
          ]
        }
      ],
      "source": [
        "print(acs[\"VALP\"].isna().sum())  \n",
        "print(f\"total number of rows in the acs table: {len(acs)}\") \n"
      ]
    },
    {
      "cell_type": "code",
      "execution_count": 5,
      "metadata": {},
      "outputs": [
        {
          "name": "stdout",
          "output_type": "stream",
          "text": [
            "276632\n"
          ]
        }
      ],
      "source": [
        "print(len(acs))\n",
        "#Out of the 276,632 total rows, there are 97,644 missing values in the VALP column "
      ]
    },
    {
      "cell_type": "markdown",
      "metadata": {},
      "source": [
        "Repeat for the `\"VALP\"` column. (If you want, you can compute both totals simultaneously.)\n",
        "\n",
        "Print out the total number of rows in the `acs` table. What do you notice about the total number of rows and the sum of the missing values for these two columns?\n",
        "\n",
        "\n",
        "\n",
        "### Q1.b\n",
        "\n",
        "Write a single line of code that proves that 100% of observations are missing either the `\"VALP\"` or `\"RNTP\"` measurements.\n"
      ]
    },
    {
      "cell_type": "code",
      "execution_count": 12,
      "metadata": {},
      "outputs": [
        {
          "name": "stdout",
          "output_type": "stream",
          "text": [
            "True\n"
          ]
        }
      ],
      "source": [
        "print((acs[\"VALP\"].isna() | acs[\"RNTP\"].isna()).mean() == 1.0)"
      ]
    },
    {
      "cell_type": "markdown",
      "metadata": {},
      "source": [
        "\n",
        "\n",
        "### Q1.c\n",
        "\n",
        "The `.dropna()` method has a `subset = ['column1', 'column2']` argument that allows you to indicate which columns your want to use to control how rows are dropped from the result.\n",
        "\n",
        "Create a table called `owners` that only includes households that have non-missing `\"VALP\"` entries. Print out the number of rows in this table and verify it matches the number of observations with *non-missing* `\"VALP\"` entries in `acs`. Hint:"
      ]
    },
    {
      "cell_type": "code",
      "execution_count": 26,
      "metadata": {},
      "outputs": [
        {
          "name": "stdout",
          "output_type": "stream",
          "text": [
            "178988\n",
            "The number of rows in the acs table is the same as the number of rows in the owners table\n"
          ]
        }
      ],
      "source": [
        "hint = pd.Series([True, False, False, True])\n",
        "~ hint\n",
        "owners = acs.dropna(subset=['VALP'])\n",
        "print(len(owners))\n",
        "\n",
        "if len(owners) == acs[\"VALP\"].notna().sum():\n",
        "    print(\"The number of rows in the acs table is the same as the number of rows in the owners table\")\n",
        "else:\n",
        "    print(\"The number of rows in the acs table is not the same as the number of rows in the owners table\")\n"
      ]
    },
    {
      "cell_type": "markdown",
      "metadata": {},
      "source": [
        "### Q1.d\n",
        "\n",
        "Using the `owners` table, what **proportion** of rows are missing `\"HINCP\"` values?\n",
        "\n",
        "Find the median value of the non-missing values (hint: built in Panadas methods automatically drop missing values).\n",
        "\n",
        "Using the `.fillna(VALUE, inplace = TRUE)` method, update the `\"HINCP\"` column of the `owners` table by making any missing values equal to median of the non-missing values.\n",
        "\n",
        "Verify by showing that all of the values are not missing for `\"HINCP\"`.\n",
        "\n",
        "\n"
      ]
    },
    {
      "cell_type": "code",
      "execution_count": 27,
      "metadata": {},
      "outputs": [
        {
          "name": "stdout",
          "output_type": "stream",
          "text": [
            "0.01331932867007844\n",
            "75000.0\n",
            "True\n"
          ]
        }
      ],
      "source": [
        "missing_hincp_proportion = owners[\"HINCP\"].isna().mean()\n",
        "print(missing_hincp_proportion)\n",
        "median_hincp = owners[\"HINCP\"].median()\n",
        "print(median_hincp)\n",
        "owners[\"HINCP\"].fillna(median_hincp, inplace=True)\n",
        "print(owners[\"HINCP\"].isna().sum() == 0)"
      ]
    },
    {
      "cell_type": "markdown",
      "metadata": {},
      "source": [
        "\n",
        "### Q1.e\n",
        "\n",
        "Repeat the above steps to create a table `renters` that contains only rows for people who are renting (have non-missing `RNTP` values) and median impute any missing `HINCP` values.\n",
        "\n",
        "For both `owners` and `renters` compute the following quantities for the \"HINCP\" column.\n",
        "- mean\n",
        "- median\n",
        "- IQR\n",
        "- standard deviation\n",
        "\n",
        "Which group has the higher location values? Which group has more spread? Comment briefly on what this means.\n",
        "\n"
      ]
    },
    {
      "cell_type": "markdown",
      "metadata": {},
      "source": [
        "Owners have higher location values and is more spread. This means that there is more deviation in the data set about home owners."
      ]
    },
    {
      "cell_type": "code",
      "execution_count": 37,
      "metadata": {},
      "outputs": [
        {
          "name": "stdout",
          "output_type": "stream",
          "text": [
            "True\n",
            "Owners - Mean: 103101.59041946946, Median: 75000.0, IQR: 85100.0, Std: 107811.39422510703\n",
            "Renters - Mean: 56607.35456808833, Median: 40000.0, IQR: 49600.0, Std: 64594.46491847602\n"
          ]
        }
      ],
      "source": [
        "renters[\"HINCP\"].fillna(median_hincp, inplace=True)\n",
        "print(renters[\"HINCP\"].isna().sum() == 0)\n",
        "\n",
        "def compute_summary_stats(df, column):\n",
        "    mean = df[column].mean()\n",
        "    median = df[column].median()\n",
        "    iqr = df[column].quantile(0.75) - df[column].quantile(0.25)\n",
        "    std = df[column].std()\n",
        "    return mean, median, iqr, std\n",
        "\n",
        "owners_mean_hincp, owners_median_hincp, owners_iqr_hincp, owners_std_hincp = compute_summary_stats(owners, \"HINCP\")\n",
        "renters_mean_hincp, renters_median_hincp, renters_iqr_hincp, renters_std_hincp = compute_summary_stats(renters, \"HINCP\")\n",
        "\n",
        "print(f\"Owners - Mean: {owners_mean_hincp}, Median: {owners_median_hincp}, IQR: {owners_iqr_hincp}, Std: {owners_std_hincp}\")\n",
        "print(f\"Renters - Mean: {renters_mean_hincp}, Median: {renters_median_hincp}, IQR: {renters_iqr_hincp}, Std: {renters_std_hincp}\")\n"
      ]
    },
    {
      "cell_type": "markdown",
      "metadata": {},
      "source": [
        "\n",
        "\n",
        "## Question 2: More on distributions\n",
        "\n",
        "### Q2.a Distributions of number of people in the household\n",
        "\n",
        "Create a histogram of the number of people in the household (`NP`) for the `acs` data. Use the `bins` argument to create a histogram with 20 bins. Briefly discuss the location, spread, and skew of the distribution.\n"
      ]
    },
    {
      "cell_type": "code",
      "execution_count": 36,
      "metadata": {},
      "outputs": [
        {
          "data": {
            "image/png": "[encoded data removed]",
            "text/plain": [
              "<Figure size 640x480 with 1 Axes>"
            ]
          },
          "metadata": {},
          "output_type": "display_data"
        }
      ],
      "source": [
        "sb.histplot(acs['NP'], bins=20)\n",
        "plt.title('Number of people in the household')\n",
        "plt.xlabel('Number of People in Household')\n",
        "plt.ylabel('Frequency')\n",
        "plt.show()\n",
        "#The histogram is not very widely spead out, most of the data is concentrated between 1 and 5 people in the household\n",
        "#The histogram is slightly right-skewed\n",
        "#the central tendency of the data is around 2-3 people\n"
      ]
    },
    {
      "cell_type": "markdown",
      "metadata": {},
      "source": [
        "\n",
        "### Q2.b Summaries of `NP`\n",
        "\n",
        "Check your answers to the previous question by computing the mean, median, IQR, standard deviation, quantile skewness using the 0.25 and 0.75 quantile, and the coefficient of skewness of the `NP` column.\n"
      ]
    },
    {
      "cell_type": "code",
      "execution_count": 39,
      "metadata": {},
      "outputs": [
        {
          "name": "stdout",
          "output_type": "stream",
          "text": [
            "2.208764712686891\n",
            "2.0\n",
            "2.0\n",
            "1.5263892280571307\n",
            "0.0\n",
            "0.4103109000958116\n"
          ]
        }
      ],
      "source": [
        "print (acs['NP'].mean())\n",
        "print (acs['NP'].median())\n",
        "print (acs['NP'].quantile(0.75) - acs['NP'].quantile(0.25))\n",
        "print (acs['NP'].std())\n",
        "print ((acs['NP'].quantile(0.75)+acs[\"NP\"].quantile(0.25)-2* acs[\"NP\"].median())/(acs[\"NP\"].quantile(0.75)-acs[\"NP\"].quantile(0.25)))\n",
        "print (3*(acs['NP'].mean()-acs['NP'].media"
      ]
    },
    {
      "cell_type": "markdown",
      "metadata": {},
      "source": [
        "\n",
        "\n",
        "### Q2.c Comparing conditional distribution of NP for owners and renters\n",
        "\n",
        "Create a side-by-side boxplot of the number of people in the household for owners and renters. What do you notice about the distributions of the number of people in the household for owners and renters?\n"
      ]
    },
    {
      "cell_type": "code",
      "execution_count": 40,
      "metadata": {},
      "outputs": [
        {
          "data": {
            "image/png": "[encoded data removed]",
            "text/plain": [
              "<Figure size 1000x600 with 1 Axes>"
            ]
          },
          "metadata": {},
          "output_type": "display_data"
        }
      ],
      "source": [
        "owners['Group'] = 'Owners'\n",
        "renters['Group'] = 'Renters'\n",
        "\n",
        "combined = pd.concat([owners, renters])\n",
        "\n",
        "plt.figure(figsize=(10, 6))\n",
        "sb.boxplot(x='Group', y='NP', data=combined)\n",
        "plt.title('Number of People in Household for Owners and Renters')\n",
        "plt.xlabel('Group')\n",
        "plt.ylabel('Number of People in Household')\n",
        "plt.show()\n",
        "\n",
        "#The distribution for owners is more spread than the distribution for renters, however the middle 50% of the data is more spread out for renters than for owners."
      ]
    },
    {
      "cell_type": "markdown",
      "metadata": {},
      "source": [
        "\n",
        "### Q2.d Effect size of the difference in means\n",
        "\n",
        "Compute the effect size of the difference in means of the number of people in the household for owners and renters. Use the formula for Cohen's $d$\n",
        "\n",
        "$$d = \\frac{\\bar X_1 - \\bar X_2}{S_p}$$\n",
        "\n",
        "where $\\bar X_1$ and $\\bar X_2$ are the means of the two groups and $S_p$ is the pooled standard deviation.\n",
        "\n",
        "Using the following table of effect sizes, how would you interpret the effect size of the difference in means of the number of people in the household for owners and renters?\n",
        "\n",
        "| Effect size | Interpretation |\n",
        "|-------------|-----------------|\n",
        "| (0, 0.2]    | Small           |\n",
        "| (0.2, 0.5]  | Medium          |\n",
        "| (0.5, 0.1]  | Large           |\n",
        "| (1, 2]      | Very large      |\n",
        "\n",
        "\n"
      ]
    },
    {
      "cell_type": "code",
      "execution_count": null,
      "metadata": {},
      "outputs": [],
      "source": []
    },
    {
      "cell_type": "markdown",
      "metadata": {},
      "source": [
        "\n",
        "## Question 3: More on means and medians\n",
        "\n",
        "For this problem, we will investigate some theoretical properties of means and medians.\n",
        "\n",
        "### Q3.a\n",
        "\n",
        "We have already seen that the mean is the unique point $\\bar X$ that makes $\\sum_{i=1}^n (X_i - \\bar X) = 0$. While we didn't introduce it as such, it is also the case that $\\bar X$ is the point that **minimizes** $\\sum_{i=1}^n (X_i - \\bar X)^2$, the sum of squared deviations.\n",
        "\n",
        "Using the `HINCP` column of the `acs` data, demonstrate that the sum of squared deviations from the mean is less than the sum of squared deviations from the median ($\\sum_{i=1}^n (X_i - \\tilde X)^2$).\n",
        "\n",
        "Recall that `x**2` is how we square things in Python."
      ]
    },
    {
      "cell_type": "markdown",
      "metadata": {},
      "source": [
        "### Q3.b\n",
        "\n",
        "Now, using $\\bar X$ and $\\tilde X$, compute the **sum of absolute distances**, $\\sum_{i=1}^n | X_i - \\bar X |$ and $\\sum_{i=1}^n |X_i - \\tilde X|$. Recall the `.abs()` method can compute the absolute value of a series."
      ]
    },
    {
      "cell_type": "markdown",
      "metadata": {},
      "source": [
        "### Q3.c\n",
        "\n",
        "While we are not rising to the level of a mathematical proof, what do these result suggest about which type of measure of location would minimize the sum of absolute differences?\n"
      ]
    }
  ],
  "metadata": {
    "kernelspec": {
      "display_name": "Python 3",
      "language": "python",
      "name": "python3"
    },
    "language_info": {
      "codemirror_mode": {
        "name": "ipython",
        "version": 3
      },
      "file_extension": ".py",
      "mimetype": "text/x-python",
      "name": "python",
      "nbconvert_exporter": "python",
      "pygments_lexer": "ipython3",
      "version": "3.12.1"
    }
  },
  "nbformat": 4,
  "nbformat_minor": 4
}
